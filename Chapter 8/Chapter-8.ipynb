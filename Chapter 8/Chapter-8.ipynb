{
 "cells": [
  {
   "cell_type": "code",
   "execution_count": 1,
   "metadata": {
    "collapsed": true
   },
   "outputs": [],
   "source": [
    "def threshold(x):\n",
    "  if sum(weights * x) + b > 0.5:\n",
    "    return 1\n",
    "  else:\n",
    "    return 0"
   ]
  },
  {
   "cell_type": "code",
   "execution_count": 2,
   "outputs": [
    {
     "ename": "NameError",
     "evalue": "name 'alpha' is not defined",
     "output_type": "error",
     "traceback": [
      "\u001B[0;31m---------------------------------------------------------------------------\u001B[0m",
      "\u001B[0;31mNameError\u001B[0m                                 Traceback (most recent call last)",
      "\u001B[0;32m<ipython-input-2-78984b859909>\u001B[0m in \u001B[0;36m<module>\u001B[0;34m\u001B[0m\n\u001B[0;32m----> 1\u001B[0;31m \u001B[0malpha\u001B[0m \u001B[0;34m*\u001B[0m \u001B[0;34m(\u001B[0m\u001B[0mexpected\u001B[0m \u001B[0;34m-\u001B[0m \u001B[0mcalculated\u001B[0m\u001B[0;34m)\u001B[0m \u001B[0;34m*\u001B[0m \u001B[0mderivative_of_calculated\u001B[0m \u001B[0;34m*\u001B[0m \u001B[0minput_at_i\u001B[0m\u001B[0;34m\u001B[0m\u001B[0;34m\u001B[0m\u001B[0m\n\u001B[0m\u001B[1;32m      2\u001B[0m \u001B[0;34m\u001B[0m\u001B[0m\n",
      "\u001B[0;31mNameError\u001B[0m: name 'alpha' is not defined"
     ]
    }
   ],
   "source": [
    "alpha * (expected - calculated) * derivative_of_calculated * input_at_i"
   ],
   "metadata": {
    "collapsed": false,
    "pycharm": {
     "name": "#%%\n"
    }
   }
  },
  {
   "cell_type": "code",
   "execution_count": 3,
   "outputs": [
    {
     "ename": "NameError",
     "evalue": "name 'current_gradient' is not defined",
     "output_type": "error",
     "traceback": [
      "\u001B[0;31m---------------------------------------------------------------------------\u001B[0m",
      "\u001B[0;31mNameError\u001B[0m                                 Traceback (most recent call last)",
      "\u001B[0;32m<ipython-input-3-6c4f0d098219>\u001B[0m in \u001B[0;36m<module>\u001B[0;34m\u001B[0m\n\u001B[1;32m     31\u001B[0m     \u001B[0;31m# from the example\u001B[0m\u001B[0;34m\u001B[0m\u001B[0;34m\u001B[0m\u001B[0;34m\u001B[0m\u001B[0m\n\u001B[1;32m     32\u001B[0m \u001B[0;34m\u001B[0m\u001B[0m\n\u001B[0;32m---> 33\u001B[0;31m     \u001B[0mgradient_momentum\u001B[0m \u001B[0;34m=\u001B[0m \u001B[0mlast_gradient\u001B[0m\u001B[0;34m[\u001B[0m\u001B[0mi\u001B[0m\u001B[0;34m]\u001B[0m\u001B[0;34m[\u001B[0m\u001B[0mj\u001B[0m\u001B[0;34m]\u001B[0m \u001B[0;34m*\u001B[0m \u001B[0mcurrent_gradient\u001B[0m\u001B[0;34m[\u001B[0m\u001B[0mi\u001B[0m\u001B[0;34m]\u001B[0m\u001B[0;34m[\u001B[0m\u001B[0mj\u001B[0m\u001B[0;34m]\u001B[0m\u001B[0;34m\u001B[0m\u001B[0;34m\u001B[0m\u001B[0m\n\u001B[0m\u001B[1;32m     34\u001B[0m \u001B[0;34m\u001B[0m\u001B[0m\n\u001B[1;32m     35\u001B[0m     \u001B[0;32mif\u001B[0m \u001B[0mgradient_momentum\u001B[0m \u001B[0;34m>\u001B[0m \u001B[0;36m0\u001B[0m\u001B[0;34m:\u001B[0m\u001B[0;34m\u001B[0m\u001B[0;34m\u001B[0m\u001B[0m\n",
      "\u001B[0;31mNameError\u001B[0m: name 'current_gradient' is not defined"
     ]
    }
   ],
   "source": [
    "import numpy as np\n",
    "import random\n",
    "\n",
    "neurons = 3\n",
    "inputs = 4\n",
    "\n",
    "delta_zero = 0.1\n",
    "increase_factor = 1.2\n",
    "decrease_factor = 0.5\n",
    "delta_max = 50.0\n",
    "delta_min = 0\n",
    "max_epoch = 100\n",
    "deltas = np.zeros((inputs, neurons))\n",
    "last_gradient = np.zeros((inputs, neurons))\n",
    "\n",
    "\n",
    "def sign(x):\n",
    " if x > 0:\n",
    "  return 1\n",
    " elif x < 0:\n",
    "  return -1\n",
    " else:\n",
    "  return 0\n",
    "\n",
    "weights = [random.uniform(-1, 1) for _ in range(inputs)]\n",
    "\n",
    "for j in range(max_epoch):\n",
    "  for i, weight in enumerate(weights):\n",
    "    # Current gradient is derived from the change of each value at each layer\n",
    "    # Do note that we haven't derived current_gradient since that would detract\n",
    "    # from the example\n",
    "\n",
    "    gradient_momentum = last_gradient[i][j] * current_gradient[i][j]\n",
    "\n",
    "    if gradient_momentum > 0:\n",
    "      deltas[i][j] = min(deltas[i][j] * increase_factor, delta_max)\n",
    "      change_weight = -sign(current_gradient[i][j]) * deltas[i][j]\n",
    "      last_gradient[i][j] = current_gradient[i][j]\n",
    "    elif gradient_momentum < 0:\n",
    "      deltas[i][j] = max(deltas[i][j] * decrease_factor, delta_min)\n",
    "      last_gradient[i][j] = 0\n",
    "    else:\n",
    "      change_weight = -sign(current_gradient[i][j])* deltas[i][j]\n",
    "      weights[i] = weights[i] + change_weight\n",
    "\n",
    "    last_gradient[i][j] = current_gradient[i][j]\n"
   ],
   "metadata": {
    "collapsed": false,
    "pycharm": {
     "name": "#%%\n"
    }
   }
  }
 ],
 "metadata": {
  "kernelspec": {
   "display_name": "Python 3",
   "language": "python",
   "name": "python3"
  },
  "language_info": {
   "codemirror_mode": {
    "name": "ipython",
    "version": 2
   },
   "file_extension": ".py",
   "mimetype": "text/x-python",
   "name": "python",
   "nbconvert_exporter": "python",
   "pygments_lexer": "ipython2",
   "version": "2.7.6"
  }
 },
 "nbformat": 4,
 "nbformat_minor": 0
}