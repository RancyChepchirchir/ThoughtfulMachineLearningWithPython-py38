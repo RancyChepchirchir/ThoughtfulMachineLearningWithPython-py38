{
 "cells": [
  {
   "cell_type": "code",
   "execution_count": 1,
   "metadata": {
    "collapsed": true
   },
   "outputs": [
    {
     "data": {
      "text/plain": "array([0.29820205, 1.        , 0.16219061])"
     },
     "execution_count": 1,
     "metadata": {},
     "output_type": "execute_result"
    }
   ],
   "source": [
    "from scipy.optimize import minimize\n",
    "import numpy as np\n",
    "\n",
    "matrix = np.array([\n",
    "  [47, 4.1, 2, 1],\n",
    "  [50, 4, 2, 2],\n",
    "  [54,4,3,3],\n",
    "  [58,4,3,4],\n",
    "  [65,4,3,5],\n",
    "  [70,4,3,6],\n",
    "  [76,4,4,7],\n",
    "  [76,4,4,8],\n",
    "  [71,4,4,9],\n",
    "  [60,4,3,10],\n",
    "  [51,4,2,11],\n",
    "  [46,4.1,2,12]\n",
    "])\n",
    "\n",
    "corrcoef = np.corrcoef(np.transpose(matrix))\n",
    "relevancy = np.transpose(corrcoef)[0][1:]\n",
    "\n",
    "# Set initial to all dimensions on\n",
    "x0 = [1,1,1]\n",
    "\n",
    "# Minimize the redundancy minus relevancy\n",
    "\n",
    "fun = lambda x: sum([corrcoef[i+1, j+1] * x[i] * x[j] for i in range(len(x)) \\\n",
    "                     for j in range(len(x))])/ \\\n",
    "                     (sum(x) ** 2) - \\\n",
    "                     (sum(relevancy * x) / sum(x))\n",
    "\n",
    "res = minimize(fun, x0, bounds=((0,1), (0,1), (0,1)))\n",
    "\n",
    "res.x"
   ]
  },
  {
   "cell_type": "code",
   "execution_count": null,
   "outputs": [],
   "source": [
    "\n"
   ],
   "metadata": {
    "collapsed": false,
    "pycharm": {
     "name": "#%%\n"
    }
   }
  }
 ],
 "metadata": {
  "kernelspec": {
   "display_name": "Python 3",
   "language": "python",
   "name": "python3"
  },
  "language_info": {
   "codemirror_mode": {
    "name": "ipython",
    "version": 2
   },
   "file_extension": ".py",
   "mimetype": "text/x-python",
   "name": "python",
   "nbconvert_exporter": "python",
   "pygments_lexer": "ipython2",
   "version": "2.7.6"
  }
 },
 "nbformat": 4,
 "nbformat_minor": 0
}