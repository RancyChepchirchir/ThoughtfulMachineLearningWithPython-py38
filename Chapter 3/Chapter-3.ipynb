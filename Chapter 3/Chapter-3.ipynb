{
 "cells": [
  {
   "cell_type": "code",
   "execution_count": 2,
   "metadata": {
    "collapsed": true
   },
   "outputs": [],
   "source": [
    "def lev(a, b):\n",
    "    if not a: return len(b)\n",
    "    if not b: return len(a)\n",
    "    return min(lev(a[1:], b[1:])+(a[0] != b[0]), lev(a[1:], b)+1, lev(a, b[1:])+1)"
   ]
  },
  {
   "cell_type": "code",
   "execution_count": 3,
   "outputs": [],
   "source": [
    "import random\n",
    "import sys\n",
    "\n",
    "import pandas as pd\n",
    "import numpy as np\n",
    "from scipy.spatial import KDTree\n",
    "from sklearn.metrics import mean_absolute_error\n",
    "import matplotlib.pyplot as plt\n",
    "\n",
    "sys.setrecursionlimit(10000)\n",
    "\n",
    "class Regression(object):\n",
    "    \"\"\"\n",
    "    Performs kNN regression\n",
    "    \"\"\"\n",
    "\n",
    "    def __init__(self):\n",
    "        self.k = 5\n",
    "        self.metric = np.mean\n",
    "        self.kdtree = None\n",
    "        self.houses = None\n",
    "        self.values = None\n",
    "\n",
    "    def set_data(self, houses, values):\n",
    "        \"\"\"\n",
    "        Sets houses and values data\n",
    "        :param houses: pandas.DataFrame with houses parameters\n",
    "        :param values: pandas.Series with houses values\n",
    "        \"\"\"\n",
    "        self.houses = houses\n",
    "        self.values = values\n",
    "        self.kdtree = KDTree(self.houses)"
   ],
   "metadata": {
    "collapsed": false,
    "pycharm": {
     "name": "#%%\n"
    }
   }
  },
  {
   "cell_type": "code",
   "execution_count": 4,
   "outputs": [],
   "source": [
    "class Regression(object):\n",
    "    # __init__\n",
    "    # set_data\n",
    "    def regress(self, query_point):\n",
    "        \"\"\"\n",
    "        Calculates predicted value for house with particular parameters\n",
    "        :param query_point: pandas.Series with house parameters\n",
    "        :return: house value\n",
    "        \"\"\"\n",
    "        _, indexes = self.kdtree.query(query_point, self.k)\n",
    "        value = self.metric(self.values.iloc[indexes])\n",
    "        if np.isnan(value):\n",
    "            raise Exception('Unexpected result')\n",
    "        else:\n",
    "            return value"
   ],
   "metadata": {
    "collapsed": false,
    "pycharm": {
     "name": "#%%\n"
    }
   }
  },
  {
   "cell_type": "code",
   "execution_count": 5,
   "outputs": [],
   "source": [
    "class RegressionTest(object):\n",
    "    \"\"\"\n",
    "    Take in King County housing data, calculate and\n",
    "    plot the kNN regression error rate.\n",
    "    \"\"\"\n",
    "\n",
    "    def __init__(self):\n",
    "        self.houses = None\n",
    "        self.values = None\n",
    "\n",
    "    def load_csv_file(self, csv_file, limit=None):\n",
    "        \"\"\"\n",
    "        Loads CSV file with houses data\n",
    "        :param csv_file: CSV file name\n",
    "        :param limit: number of rows of file to read\n",
    "        \"\"\"\n",
    "        houses = pd.read_csv(csv_file, nrows=limit)\n",
    "        self.values = houses['AppraisedValue']\n",
    "        houses = houses.drop('AppraisedValue', 1)\n",
    "        houses = (houses - houses.mean()) / (houses.max() - houses.min())\n",
    "        self.houses = houses\n",
    "        self.houses = self.houses[['lat', 'long', 'SqFtLot']]\n",
    "\n",
    "    def tests(self, folds):\n",
    "        \"\"\"\n",
    "        Calculates mean absolute errors for series of tests\n",
    "        :param folds: how many times split the data\n",
    "        :return: list of error values\n",
    "        \"\"\"\n",
    "        holdout = 1 / float(folds)\n",
    "        errors = []\n",
    "        for _ in range(folds):\n",
    "            values_regress, values_actual = self.test_regression(holdout)\n",
    "            errors.append(mean_absolute_error(values_actual, values_regress))\n",
    "\n",
    "        return errors\n",
    "\n",
    "    def test_regression(self, holdout):\n",
    "        \"\"\"\n",
    "        Calculates regression for out-of-sample data\n",
    "        :param holdout: part of the data for testing [0,1]\n",
    "        :return: tuple(y_regression, values_actual)\n",
    "        \"\"\"\n",
    "        test_rows = random.sample(self.houses.index.tolist(),\n",
    "                    int(round(len(self.houses) * holdout)))\n",
    "        train_rows = set(range(len(self.houses))) - set(test_rows)\n",
    "        df_test = self.houses.loc[test_rows]\n",
    "        df_train = self.houses.drop(test_rows)\n",
    "\n",
    "        train_values = self.values.loc[train_rows]\n",
    "        regression = Regression()\n",
    "        regression.set_data(houses=df_train, values=train_values)\n",
    "\n",
    "        values_regr = []\n",
    "        values_actual = []\n",
    "\n",
    "        for idx, row in df_test.iterrows():\n",
    "            values_regr.append(regression.regress(row))\n",
    "            values_actual.append(self.values[idx])\n",
    "\n",
    "        return values_regr, values_actual"
   ],
   "metadata": {
    "collapsed": false,
    "pycharm": {
     "name": "#%%\n"
    }
   }
  },
  {
   "cell_type": "code",
   "execution_count": 6,
   "outputs": [],
   "source": [
    "class RegressionTest(object):\n",
    "    # __init__\n",
    "    # load_csv_file\n",
    "    # tests\n",
    "    # test_regression\n",
    "\n",
    "    def plot_error_rates(self):\n",
    "        \"\"\"\n",
    "        Plots MAE vs #folds\n",
    "        \"\"\"\n",
    "        folds_range = range(2, 11)\n",
    "        errors_df = pd.DataFrame({'max': 0, 'min': 0}, index=folds_range)\n",
    "        for folds in folds_range:\n",
    "            errors = self.tests(folds)\n",
    "            errors_df['max'][folds] = max(errors)\n",
    "            errors_df['min'][folds] = min(errors)\n",
    "        errors_df.plot(title='Mean Absolute Error of KNN over different folds_range')\n",
    "        plt.xlabel('#folds_range')\n",
    "        plt.ylabel('MAE')\n",
    "        plt.show()"
   ],
   "metadata": {
    "collapsed": false,
    "pycharm": {
     "name": "#%%\n"
    }
   }
  },
  {
   "cell_type": "code",
   "execution_count": 7,
   "outputs": [
    {
     "ename": "AttributeError",
     "evalue": "'RegressionTest' object has no attribute 'load_csv_file'",
     "output_type": "error",
     "traceback": [
      "\u001B[0;31m---------------------------------------------------------------------------\u001B[0m",
      "\u001B[0;31mAttributeError\u001B[0m                            Traceback (most recent call last)",
      "\u001B[0;32m<ipython-input-7-4c560fd1d398>\u001B[0m in \u001B[0;36m<module>\u001B[0;34m\u001B[0m\n\u001B[1;32m      6\u001B[0m \u001B[0;34m\u001B[0m\u001B[0m\n\u001B[1;32m      7\u001B[0m \u001B[0;32mif\u001B[0m \u001B[0m__name__\u001B[0m \u001B[0;34m==\u001B[0m \u001B[0;34m'__main__'\u001B[0m\u001B[0;34m:\u001B[0m\u001B[0;34m\u001B[0m\u001B[0;34m\u001B[0m\u001B[0m\n\u001B[0;32m----> 8\u001B[0;31m     \u001B[0mmain\u001B[0m\u001B[0;34m(\u001B[0m\u001B[0;34m)\u001B[0m\u001B[0;34m\u001B[0m\u001B[0;34m\u001B[0m\u001B[0m\n\u001B[0m\u001B[1;32m      9\u001B[0m \u001B[0;34m\u001B[0m\u001B[0m\n",
      "\u001B[0;32m<ipython-input-7-4c560fd1d398>\u001B[0m in \u001B[0;36mmain\u001B[0;34m()\u001B[0m\n\u001B[1;32m      1\u001B[0m \u001B[0;32mdef\u001B[0m \u001B[0mmain\u001B[0m\u001B[0;34m(\u001B[0m\u001B[0;34m)\u001B[0m\u001B[0;34m:\u001B[0m\u001B[0;34m\u001B[0m\u001B[0;34m\u001B[0m\u001B[0m\n\u001B[1;32m      2\u001B[0m     \u001B[0mregression_test\u001B[0m \u001B[0;34m=\u001B[0m \u001B[0mRegressionTest\u001B[0m\u001B[0;34m(\u001B[0m\u001B[0;34m)\u001B[0m\u001B[0;34m\u001B[0m\u001B[0;34m\u001B[0m\u001B[0m\n\u001B[0;32m----> 3\u001B[0;31m     \u001B[0mregression_test\u001B[0m\u001B[0;34m.\u001B[0m\u001B[0mload_csv_file\u001B[0m\u001B[0;34m(\u001B[0m\u001B[0;34m'../data/king_county_data_geocoded.csv'\u001B[0m\u001B[0;34m,\u001B[0m \u001B[0;36m100\u001B[0m\u001B[0;34m)\u001B[0m\u001B[0;34m\u001B[0m\u001B[0;34m\u001B[0m\u001B[0m\n\u001B[0m\u001B[1;32m      4\u001B[0m     \u001B[0mregression_test\u001B[0m\u001B[0;34m.\u001B[0m\u001B[0mplot_error_rates\u001B[0m\u001B[0;34m(\u001B[0m\u001B[0;34m)\u001B[0m\u001B[0;34m\u001B[0m\u001B[0;34m\u001B[0m\u001B[0m\n\u001B[1;32m      5\u001B[0m \u001B[0;34m\u001B[0m\u001B[0m\n",
      "\u001B[0;31mAttributeError\u001B[0m: 'RegressionTest' object has no attribute 'load_csv_file'"
     ]
    }
   ],
   "source": [
    "def main():\n",
    "    regression_test = RegressionTest()\n",
    "    regression_test.load_csv_file('../data/king_county_data_geocoded.csv', 100)\n",
    "    regression_test.plot_error_rates()\n",
    "\n",
    "\n",
    "if __name__ == '__main__':\n",
    "    main()"
   ],
   "metadata": {
    "collapsed": false,
    "pycharm": {
     "name": "#%%\n"
    }
   }
  },
  {
   "cell_type": "code",
   "execution_count": 1,
   "outputs": [
    {
     "ename": "AttributeError",
     "evalue": "'DataFrame' object has no attribute 'ix'",
     "output_type": "error",
     "traceback": [
      "\u001B[0;31m---------------------------------------------------------------------------\u001B[0m",
      "\u001B[0;31mAttributeError\u001B[0m                            Traceback (most recent call last)",
      "\u001B[0;32m<ipython-input-1-f904550bc2de>\u001B[0m in \u001B[0;36m<module>\u001B[0;34m\u001B[0m\n\u001B[1;32m    131\u001B[0m \u001B[0;34m\u001B[0m\u001B[0m\n\u001B[1;32m    132\u001B[0m \u001B[0;32mif\u001B[0m \u001B[0m__name__\u001B[0m \u001B[0;34m==\u001B[0m \u001B[0;34m'__main__'\u001B[0m\u001B[0;34m:\u001B[0m\u001B[0;34m\u001B[0m\u001B[0;34m\u001B[0m\u001B[0m\n\u001B[0;32m--> 133\u001B[0;31m     \u001B[0mmain\u001B[0m\u001B[0;34m(\u001B[0m\u001B[0;34m)\u001B[0m\u001B[0;34m\u001B[0m\u001B[0;34m\u001B[0m\u001B[0m\n\u001B[0m\u001B[1;32m    134\u001B[0m \u001B[0;34m\u001B[0m\u001B[0m\n",
      "\u001B[0;32m<ipython-input-1-f904550bc2de>\u001B[0m in \u001B[0;36mmain\u001B[0;34m()\u001B[0m\n\u001B[1;32m    127\u001B[0m     \u001B[0mregression_test\u001B[0m \u001B[0;34m=\u001B[0m \u001B[0mRegressionTest\u001B[0m\u001B[0;34m(\u001B[0m\u001B[0;34m)\u001B[0m\u001B[0;34m\u001B[0m\u001B[0;34m\u001B[0m\u001B[0m\n\u001B[1;32m    128\u001B[0m     \u001B[0mregression_test\u001B[0m\u001B[0;34m.\u001B[0m\u001B[0mload_csv_file\u001B[0m\u001B[0;34m(\u001B[0m\u001B[0;34m'../data/king_county_data_geocoded.csv'\u001B[0m\u001B[0;34m,\u001B[0m \u001B[0;36m100\u001B[0m\u001B[0;34m)\u001B[0m\u001B[0;34m\u001B[0m\u001B[0;34m\u001B[0m\u001B[0m\n\u001B[0;32m--> 129\u001B[0;31m     \u001B[0mregression_test\u001B[0m\u001B[0;34m.\u001B[0m\u001B[0mplot_error_rates\u001B[0m\u001B[0;34m(\u001B[0m\u001B[0;34m)\u001B[0m\u001B[0;34m\u001B[0m\u001B[0;34m\u001B[0m\u001B[0m\n\u001B[0m\u001B[1;32m    130\u001B[0m \u001B[0;34m\u001B[0m\u001B[0m\n\u001B[1;32m    131\u001B[0m \u001B[0;34m\u001B[0m\u001B[0m\n",
      "\u001B[0;32m<ipython-input-1-f904550bc2de>\u001B[0m in \u001B[0;36mplot_error_rates\u001B[0;34m(self)\u001B[0m\n\u001B[1;32m    115\u001B[0m         \u001B[0merrors_df\u001B[0m \u001B[0;34m=\u001B[0m \u001B[0mpd\u001B[0m\u001B[0;34m.\u001B[0m\u001B[0mDataFrame\u001B[0m\u001B[0;34m(\u001B[0m\u001B[0;34m{\u001B[0m\u001B[0;34m'max'\u001B[0m\u001B[0;34m:\u001B[0m \u001B[0;36m0\u001B[0m\u001B[0;34m,\u001B[0m \u001B[0;34m'min'\u001B[0m\u001B[0;34m:\u001B[0m \u001B[0;36m0\u001B[0m\u001B[0;34m}\u001B[0m\u001B[0;34m,\u001B[0m \u001B[0mindex\u001B[0m\u001B[0;34m=\u001B[0m\u001B[0mfolds_range\u001B[0m\u001B[0;34m)\u001B[0m\u001B[0;34m\u001B[0m\u001B[0;34m\u001B[0m\u001B[0m\n\u001B[1;32m    116\u001B[0m         \u001B[0;32mfor\u001B[0m \u001B[0mfolds\u001B[0m \u001B[0;32min\u001B[0m \u001B[0mfolds_range\u001B[0m\u001B[0;34m:\u001B[0m\u001B[0;34m\u001B[0m\u001B[0;34m\u001B[0m\u001B[0m\n\u001B[0;32m--> 117\u001B[0;31m             \u001B[0merrors\u001B[0m \u001B[0;34m=\u001B[0m \u001B[0mself\u001B[0m\u001B[0;34m.\u001B[0m\u001B[0mtests\u001B[0m\u001B[0;34m(\u001B[0m\u001B[0mfolds\u001B[0m\u001B[0;34m)\u001B[0m\u001B[0;34m\u001B[0m\u001B[0;34m\u001B[0m\u001B[0m\n\u001B[0m\u001B[1;32m    118\u001B[0m             \u001B[0merrors_df\u001B[0m\u001B[0;34m[\u001B[0m\u001B[0;34m'max'\u001B[0m\u001B[0;34m]\u001B[0m\u001B[0;34m[\u001B[0m\u001B[0mfolds\u001B[0m\u001B[0;34m]\u001B[0m \u001B[0;34m=\u001B[0m \u001B[0mmax\u001B[0m\u001B[0;34m(\u001B[0m\u001B[0merrors\u001B[0m\u001B[0;34m)\u001B[0m\u001B[0;34m\u001B[0m\u001B[0;34m\u001B[0m\u001B[0m\n\u001B[1;32m    119\u001B[0m             \u001B[0merrors_df\u001B[0m\u001B[0;34m[\u001B[0m\u001B[0;34m'min'\u001B[0m\u001B[0;34m]\u001B[0m\u001B[0;34m[\u001B[0m\u001B[0mfolds\u001B[0m\u001B[0;34m]\u001B[0m \u001B[0;34m=\u001B[0m \u001B[0mmin\u001B[0m\u001B[0;34m(\u001B[0m\u001B[0merrors\u001B[0m\u001B[0;34m)\u001B[0m\u001B[0;34m\u001B[0m\u001B[0;34m\u001B[0m\u001B[0m\n",
      "\u001B[0;32m<ipython-input-1-f904550bc2de>\u001B[0m in \u001B[0;36mtests\u001B[0;34m(self, folds)\u001B[0m\n\u001B[1;32m     78\u001B[0m         \u001B[0merrors\u001B[0m \u001B[0;34m=\u001B[0m \u001B[0;34m[\u001B[0m\u001B[0;34m]\u001B[0m\u001B[0;34m\u001B[0m\u001B[0;34m\u001B[0m\u001B[0m\n\u001B[1;32m     79\u001B[0m         \u001B[0;32mfor\u001B[0m \u001B[0m_\u001B[0m \u001B[0;32min\u001B[0m \u001B[0mrange\u001B[0m\u001B[0;34m(\u001B[0m\u001B[0mfolds\u001B[0m\u001B[0;34m)\u001B[0m\u001B[0;34m:\u001B[0m\u001B[0;34m\u001B[0m\u001B[0;34m\u001B[0m\u001B[0m\n\u001B[0;32m---> 80\u001B[0;31m             \u001B[0mvalues_regress\u001B[0m\u001B[0;34m,\u001B[0m \u001B[0mvalues_actual\u001B[0m \u001B[0;34m=\u001B[0m \u001B[0mself\u001B[0m\u001B[0;34m.\u001B[0m\u001B[0mtest_regression\u001B[0m\u001B[0;34m(\u001B[0m\u001B[0mholdout\u001B[0m\u001B[0;34m)\u001B[0m\u001B[0;34m\u001B[0m\u001B[0;34m\u001B[0m\u001B[0m\n\u001B[0m\u001B[1;32m     81\u001B[0m             \u001B[0merrors\u001B[0m\u001B[0;34m.\u001B[0m\u001B[0mappend\u001B[0m\u001B[0;34m(\u001B[0m\u001B[0mmean_absolute_error\u001B[0m\u001B[0;34m(\u001B[0m\u001B[0mvalues_actual\u001B[0m\u001B[0;34m,\u001B[0m \u001B[0mvalues_regress\u001B[0m\u001B[0;34m)\u001B[0m\u001B[0;34m)\u001B[0m\u001B[0;34m\u001B[0m\u001B[0;34m\u001B[0m\u001B[0m\n\u001B[1;32m     82\u001B[0m \u001B[0;34m\u001B[0m\u001B[0m\n",
      "\u001B[0;32m<ipython-input-1-f904550bc2de>\u001B[0m in \u001B[0;36mtest_regression\u001B[0;34m(self, holdout)\u001B[0m\n\u001B[1;32m     92\u001B[0m                     int(round(len(self.houses) * holdout)))\n\u001B[1;32m     93\u001B[0m         \u001B[0mtrain_rows\u001B[0m \u001B[0;34m=\u001B[0m \u001B[0mset\u001B[0m\u001B[0;34m(\u001B[0m\u001B[0mrange\u001B[0m\u001B[0;34m(\u001B[0m\u001B[0mlen\u001B[0m\u001B[0;34m(\u001B[0m\u001B[0mself\u001B[0m\u001B[0;34m.\u001B[0m\u001B[0mhouses\u001B[0m\u001B[0;34m)\u001B[0m\u001B[0;34m)\u001B[0m\u001B[0;34m)\u001B[0m \u001B[0;34m-\u001B[0m \u001B[0mset\u001B[0m\u001B[0;34m(\u001B[0m\u001B[0mtest_rows\u001B[0m\u001B[0;34m)\u001B[0m\u001B[0;34m\u001B[0m\u001B[0;34m\u001B[0m\u001B[0m\n\u001B[0;32m---> 94\u001B[0;31m         \u001B[0mdf_test\u001B[0m \u001B[0;34m=\u001B[0m \u001B[0mself\u001B[0m\u001B[0;34m.\u001B[0m\u001B[0mhouses\u001B[0m\u001B[0;34m.\u001B[0m\u001B[0mix\u001B[0m\u001B[0;34m[\u001B[0m\u001B[0mtest_rows\u001B[0m\u001B[0;34m]\u001B[0m\u001B[0;34m\u001B[0m\u001B[0;34m\u001B[0m\u001B[0m\n\u001B[0m\u001B[1;32m     95\u001B[0m         \u001B[0mdf_train\u001B[0m \u001B[0;34m=\u001B[0m \u001B[0mself\u001B[0m\u001B[0;34m.\u001B[0m\u001B[0mhouses\u001B[0m\u001B[0;34m.\u001B[0m\u001B[0mdrop\u001B[0m\u001B[0;34m(\u001B[0m\u001B[0mtest_rows\u001B[0m\u001B[0;34m)\u001B[0m\u001B[0;34m\u001B[0m\u001B[0;34m\u001B[0m\u001B[0m\n\u001B[1;32m     96\u001B[0m \u001B[0;34m\u001B[0m\u001B[0m\n",
      "\u001B[0;32m~/Dokumenter/Programs/miniconda3/envs/ThoughtfulMachineLearningWithPython-py38/lib/python3.8/site-packages/pandas/core/generic.py\u001B[0m in \u001B[0;36m__getattr__\u001B[0;34m(self, name)\u001B[0m\n\u001B[1;32m   5272\u001B[0m             \u001B[0;32mif\u001B[0m \u001B[0mself\u001B[0m\u001B[0;34m.\u001B[0m\u001B[0m_info_axis\u001B[0m\u001B[0;34m.\u001B[0m\u001B[0m_can_hold_identifiers_and_holds_name\u001B[0m\u001B[0;34m(\u001B[0m\u001B[0mname\u001B[0m\u001B[0;34m)\u001B[0m\u001B[0;34m:\u001B[0m\u001B[0;34m\u001B[0m\u001B[0;34m\u001B[0m\u001B[0m\n\u001B[1;32m   5273\u001B[0m                 \u001B[0;32mreturn\u001B[0m \u001B[0mself\u001B[0m\u001B[0;34m[\u001B[0m\u001B[0mname\u001B[0m\u001B[0;34m]\u001B[0m\u001B[0;34m\u001B[0m\u001B[0;34m\u001B[0m\u001B[0m\n\u001B[0;32m-> 5274\u001B[0;31m             \u001B[0;32mreturn\u001B[0m \u001B[0mobject\u001B[0m\u001B[0;34m.\u001B[0m\u001B[0m__getattribute__\u001B[0m\u001B[0;34m(\u001B[0m\u001B[0mself\u001B[0m\u001B[0;34m,\u001B[0m \u001B[0mname\u001B[0m\u001B[0;34m)\u001B[0m\u001B[0;34m\u001B[0m\u001B[0;34m\u001B[0m\u001B[0m\n\u001B[0m\u001B[1;32m   5275\u001B[0m \u001B[0;34m\u001B[0m\u001B[0m\n\u001B[1;32m   5276\u001B[0m     \u001B[0;32mdef\u001B[0m \u001B[0m__setattr__\u001B[0m\u001B[0;34m(\u001B[0m\u001B[0mself\u001B[0m\u001B[0;34m,\u001B[0m \u001B[0mname\u001B[0m\u001B[0;34m:\u001B[0m \u001B[0mstr\u001B[0m\u001B[0;34m,\u001B[0m \u001B[0mvalue\u001B[0m\u001B[0;34m)\u001B[0m \u001B[0;34m->\u001B[0m \u001B[0;32mNone\u001B[0m\u001B[0;34m:\u001B[0m\u001B[0;34m\u001B[0m\u001B[0;34m\u001B[0m\u001B[0m\n",
      "\u001B[0;31mAttributeError\u001B[0m: 'DataFrame' object has no attribute 'ix'"
     ]
    }
   ],
   "source": [
    "\n"
   ],
   "metadata": {
    "collapsed": false,
    "pycharm": {
     "name": "#%%\n"
    }
   }
  }
 ],
 "metadata": {
  "kernelspec": {
   "display_name": "Python 3",
   "language": "python",
   "name": "python3"
  },
  "language_info": {
   "codemirror_mode": {
    "name": "ipython",
    "version": 2
   },
   "file_extension": ".py",
   "mimetype": "text/x-python",
   "name": "python",
   "nbconvert_exporter": "python",
   "pygments_lexer": "ipython2",
   "version": "2.7.6"
  }
 },
 "nbformat": 4,
 "nbformat_minor": 0
}